{
 "cells": [
  {
   "cell_type": "code",
   "execution_count": 2,
   "metadata": {},
   "outputs": [],
   "source": [
    "library(\"INLA\")\n",
    "library(\"dplyr\")\n",
    "library(\"tidyverse\")"
   ]
  },
  {
   "cell_type": "code",
   "execution_count": 3,
   "metadata": {},
   "outputs": [],
   "source": [
    "data = read.csv(\"JHU_rollup_as_of_2020-10-01.csv\", header = TRUE)\n",
    "county = read.csv(\"county_pop.csv\",header = TRUE)\n",
    "data = merge(data,county, by=\"fips\")\n",
    "\n",
    "lag.data = data %>% group_by(fips) %>%arrange(date)%>% mutate(daily = confirmed - lag(confirmed, 1))\n",
    "\n",
    "lag.data %>% mutate(daily2 = ifelse(is.na(daily),0, daily)) ->lag.noNA #daily2 NA values replaced with 0 \n",
    "\n",
    "lag.noNA %>% mutate(daily2 = ifelse(daily < 0, 0, daily)) ->lag.clean  #negative daily2 values replaced with 0\n",
    "\n",
    "#see how many lags are negative\n",
    "pos<-nrow(lag.data[lag.data$daily>=0,])\n",
    "neg<-nrow(lag.data[lag.data$daily<0,])\n",
    "percent.neg<- neg/(neg+pos) #Note: Only 2% of the daily observations are negative. We will replace these with zero"
   ]
  },
  {
   "cell_type": "code",
   "execution_count": 4,
   "metadata": {},
   "outputs": [],
   "source": [
    "# Create a temporal model with no spatial term\n",
    "sp.observation = lag.clean %>% group_by(fips)%>% count(fips)\n",
    "sp = 2826 #this is the number of different counties\n",
    "\n",
    "lag.clean%>% distinct() %>% group_by(fips, date) %>% filter(deaths==max(deaths))%>% distinct() %>% filter(daily2 ==max(daily2))-> data.maxdeath\n",
    "\n",
    "num_observation = data.maxdeath%>%group_by(fips)%>%count(fips)\n",
    "\n",
    "data.maxdeath%>%group_by(fips, date)%>%filter(confirmed==max(confirmed))->data.maxconfirmed\n",
    "data.maxconfirmed%>%group_by(fips, date)%>%filter(daily==max(daily))->data.maxdaily\n",
    "num_observation2= data.maxdaily%>%group_by(fips)%>%count(fips)\n",
    "\n",
    "#THE DATA IS ALL CLEAN! No NAs or negatives for daily2, 192 observations for each fip\n",
    "JHU.data<-data.maxdaily"
   ]
  },
  {
   "cell_type": "code",
   "execution_count": 5,
   "metadata": {},
   "outputs": [],
   "source": [
    "# Make an ID.day variable. Goes from 1 to n and identifies the counties\n",
    "JHU.data %>% group_by(fips) %>% arrange(date)%>% \n",
    "   mutate(id.Day = rep(1:192, times=as.factor(sp)))->ID.data\n",
    "\n",
    "ID.data %>% mutate(logPop = rep(log(population)))-> pop.data #this is base e, not 10\n",
    "\n",
    "subset.data <- pop.data%>% filter(1 < id.Day & id.Day<150)"
   ]
  },
  {
   "cell_type": "code",
   "execution_count": 8,
   "metadata": {},
   "outputs": [
    {
     "data": {
      "text/plain": [
       "\n",
       "Call:\n",
       "   c(\"inla(formula = formula.temp2, family = \\\"poisson\\\", data = \n",
       "   subset.data, \", \" offset = logPop, verbose = TRUE, control.predictor = \n",
       "   list(compute = TRUE))\" ) \n",
       "Time used:\n",
       "    Pre = 1.67, Running = 22154, Post = 19.2, Total = 22175 \n",
       "Fixed effects:\n",
       "             mean    sd 0.025quant 0.5quant 0.975quant  mode kld\n",
       "(Intercept) -9.19 0.001     -9.191    -9.19     -9.189 -9.19   0\n",
       "\n",
       "Random effects:\n",
       "  Name\t  Model\n",
       "    id.Day RW1 model\n",
       "\n",
       "Model hyperparameters:\n",
       "                      mean   sd 0.025quant 0.5quant 0.975quant  mode\n",
       "Precision for id.Day 52.75 6.11      41.43    52.46      65.37 51.55\n",
       "\n",
       "Expected number of effective parameters(stdev): 173.77(0.073)\n",
       "Number of equivalent replicates : 2406.88 \n",
       "\n",
       "Marginal log-Likelihood:  -3708825.19 \n",
       "Posterior marginals for the linear predictor and\n",
       " the fitted values are computed\n"
      ]
     },
     "metadata": {},
     "output_type": "display_data"
    }
   ],
   "source": [
    "#should it be model = ar1 instead of rw1\n",
    "formula.temp2 <- daily2 ~ 1 + f(id.Day, model=\"rw1\")\n",
    "model.temp2<-inla(formula.temp2, family=\"poisson\",data=subset.data,offset=logPop,verbose = TRUE, control.predictor = list(compute=TRUE))\n",
    "summary(model.temp2)"
   ]
  },
  {
   "cell_type": "code",
   "execution_count": 9,
   "metadata": {},
   "outputs": [],
   "source": [
    "plot(model.temp2, plot.prior = TRUE) #Th is should plot prior and posterior on the same plot"
   ]
  },
  {
   "cell_type": "code",
   "execution_count": null,
   "metadata": {},
   "outputs": [],
   "source": [
    "fitted <- model.temp2$summary.fitted.values #df with mean, stdev, and quantiles of the fitted values\n",
    "predicted <- model.temp2$summary.linear.predictor #df with mean, stdev, and quantiles of the linear predictors\n",
    "marginals.pred <- model.temp2$marginals.linear.predictor #computes a list with the posterior marginals of the linear predictors\n",
    "marginals.fit <- model.temp2$marginals.fitted.values # list with a the posterior marginals of the fitted values"
   ]
  },
  {
   "cell_type": "code",
   "execution_count": 11,
   "metadata": {},
   "outputs": [
    {
     "data": {
      "image/png": "[encoded data removed]",
      "text/plain": [
       "plot without title"
      ]
     },
     "metadata": {
      "image/png": {
       "height": 420,
       "width": 420
      }
     },
     "output_type": "display_data"
    }
   ],
   "source": [
    "plot(fitted$mean, predicted$mean) #probably not a good fit; all over the place. Predictions are way smaller than the actual values. Some other things going on the model doesn't capture. Predictions up to 200 while actual 6000.\n",
    "#these large values are NYC\n",
    "# The y=x line is where you are fitting well. All the values below are where you are underpredicting\n",
    "# We also have to account for the zeros\n",
    "# Temporal only model"
   ]
  },
  {
   "cell_type": "code",
   "execution_count": null,
   "metadata": {},
   "outputs": [],
   "source": [
    "write.csv(fitted, \"C:/Users/Reilly McGinnis/Documents/Documents Files/Firstie Year Semester 1/AY21_MA498\")"
   ]
  }
 ],
 "metadata": {
  "kernelspec": {
   "display_name": "R",
   "language": "R",
   "name": "ir"
  },
  "language_info": {
   "codemirror_mode": "r",
   "file_extension": ".r",
   "mimetype": "text/x-r-source",
   "name": "R",
   "pygments_lexer": "r",
   "version": "3.6.3"
  }
 },
 "nbformat": 4,
 "nbformat_minor": 4
}
