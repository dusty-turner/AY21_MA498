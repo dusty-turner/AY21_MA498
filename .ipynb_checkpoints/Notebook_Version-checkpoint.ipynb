{
 "cells": [
  {
   "cell_type": "code",
   "execution_count": 11,
   "metadata": {},
   "outputs": [
    {
     "ename": "ERROR",
     "evalue": "Error in library(\"maptools\"): there is no package called ‘maptools’\n",
     "output_type": "error",
     "traceback": [
      "Error in library(\"maptools\"): there is no package called ‘maptools’\nTraceback:\n",
      "1. library(\"maptools\")"
     ]
    }
   ],
   "source": [
    "library(\"INLA\")\n",
    "library(\"dplyr\")\n",
    "library(\"tidyverse\")\n",
    "library(\"maptools\")"
   ]
  },
  {
   "cell_type": "code",
   "execution_count": 4,
   "metadata": {},
   "outputs": [],
   "source": [
    "data = read.csv(\"JHU_rollup_as_of_2020-10-01.csv\", header = TRUE)\n",
    "county = read.csv(\"county_pop.csv\",header = TRUE)\n",
    "data = merge(data,county, by=\"fips\")\n",
    "\n",
    "lag.data = data %>% group_by(fips) %>%arrange(date)%>% mutate(daily = confirmed - lag(confirmed, 1))\n",
    "\n",
    "lag.data %>% mutate(daily2 = ifelse(is.na(daily),0, daily)) ->lag.noNA #daily2 NA values replaced with 0 \n",
    "\n",
    "lag.noNA %>% mutate(daily2 = ifelse(daily < 0, 0, daily)) ->lag.clean  #negative daily2 values replaced with 0\n",
    "\n",
    "#see how many lags are negative\n",
    "pos<-nrow(lag.data[lag.data$daily>=0,])\n",
    "neg<-nrow(lag.data[lag.data$daily<0,])\n",
    "percent.neg<- neg/(neg+pos) #Note: Only 2% of the daily observations are negative. We will replace these with zero"
   ]
  },
  {
   "cell_type": "code",
   "execution_count": 5,
   "metadata": {},
   "outputs": [],
   "source": [
    "# Create a temporal model with no spatial term\n",
    "sp.observation = lag.clean %>% group_by(fips)%>% count(fips)\n",
    "sp = 2826 #this is the number of different counties\n",
    "\n",
    "lag.clean%>% distinct() %>% group_by(fips, date) %>% filter(deaths==max(deaths))%>% distinct() %>% filter(daily2 ==max(daily2))-> data.maxdeath\n",
    "\n",
    "num_observation = data.maxdeath%>%group_by(fips)%>%count(fips)\n",
    "\n",
    "data.maxdeath%>%group_by(fips, date)%>%filter(confirmed==max(confirmed))->data.maxconfirmed\n",
    "data.maxconfirmed%>%group_by(fips, date)%>%filter(daily==max(daily))->data.maxdaily\n",
    "num_observation2= data.maxdaily%>%group_by(fips)%>%count(fips)\n",
    "\n",
    "#THE DATA IS ALL CLEAN! No NAs or negatives for daily2, 192 observations for each fip\n",
    "JHU.data<-data.maxdaily "
   ]
  },
  {
   "cell_type": "code",
   "execution_count": 8,
   "metadata": {},
   "outputs": [],
   "source": [
    "# Make an ID.day variable. Goes from 1 to n and identifies the counties\n",
    "JHU.data %>% group_by(fips) %>% arrange(date)%>% \n",
    "   mutate(id.Day = rep(1:192, times=as.factor(sp)))->ID.data\n",
    "\n",
    "ID.data %>% mutate(logPop = rep(log(population)))-> pop.data #this is base e, not 10\n",
    "\n",
    "subset.data <- pop.data%>% filter(1 < id.Day & id.Day<150)"
   ]
  },
  {
   "cell_type": "code",
   "execution_count": 9,
   "metadata": {},
   "outputs": [
    {
     "data": {
      "text/plain": [
       "\n",
       "Call:\n",
       "   c(\"inla(formula = formula.temp, family = \\\"poisson\\\", data = \n",
       "   subset.data, \", \" offset = logPop, verbose = TRUE)\") \n",
       "Time used:\n",
       "    Pre = 1.87, Running = 443, Post = 0.781, Total = 446 \n",
       "Fixed effects:\n",
       "             mean    sd 0.025quant 0.5quant 0.975quant  mode kld\n",
       "(Intercept) -9.19 0.001     -9.191    -9.19     -9.189 -9.19   0\n",
       "\n",
       "Random effects:\n",
       "  Name\t  Model\n",
       "    id.Day RW1 model\n",
       "\n",
       "Model hyperparameters:\n",
       "                      mean   sd 0.025quant 0.5quant 0.975quant  mode\n",
       "Precision for id.Day 52.66 6.09      41.48    52.31      65.30 50.91\n",
       "\n",
       "Expected number of effective parameters(stdev): 173.77(0.072)\n",
       "Number of equivalent replicates : 2406.86 \n",
       "\n",
       "Marginal log-Likelihood:  -3708825.19 "
      ]
     },
     "metadata": {},
     "output_type": "display_data"
    }
   ],
   "source": [
    "formula.temp <- daily2 ~ 1 + f(id.Day, model=\"rw1\")\n",
    "model.temp<-inla(formula.temp, family=\"poisson\",data=subset.data,offset=logPop,verbose = TRUE)\n",
    "summary(model.temp)"
   ]
  },
  {
   "cell_type": "code",
   "execution_count": 10,
   "metadata": {},
   "outputs": [
    {
     "data": {
      "text/plain": [
       "\n",
       "Call:\n",
       "   c(\"inla(formula = formula.temp2, family = \\\"poisson\\\", data = \n",
       "   subset.data, \", \" offset = logPop, verbose = TRUE)\") \n",
       "Time used:\n",
       "    Pre = 1.88, Running = 2552, Post = 0.182, Total = 2554 \n",
       "Fixed effects:\n",
       "              mean    sd 0.025quant 0.5quant 0.975quant   mode   kld\n",
       "(Intercept) -9.303 0.314     -9.995   -9.284     -8.725 -9.263 0.007\n",
       "\n",
       "Random effects:\n",
       "  Name\t  Model\n",
       "    id.Day AR1 model\n",
       "\n",
       "Model hyperparameters:\n",
       "                      mean    sd 0.025quant 0.5quant 0.975quant  mode\n",
       "Precision for id.Day 5.367 2.124      2.038     5.12     10.182 4.505\n",
       "Rho for id.Day       0.948 0.021      0.901     0.95      0.981 0.957\n",
       "\n",
       "Expected number of effective parameters(stdev): 173.80(0.074)\n",
       "Number of equivalent replicates : 2406.53 \n",
       "\n",
       "Marginal log-Likelihood:  -3708828.30 "
      ]
     },
     "metadata": {},
     "output_type": "display_data"
    }
   ],
   "source": [
    "#should it be model = ar1 instead of rw1?\n",
    "formula.temp2 <- daily2 ~ 1 + f(id.Day, model=\"ar1\")\n",
    "model.temp2<-inla(formula.temp2, family=\"poisson\",data=subset.data,offset=logPop,verbose = TRUE)\n",
    "summary(model.temp2)"
   ]
  },
  {
   "cell_type": "code",
   "execution_count": null,
   "metadata": {},
   "outputs": [],
   "source": [
    "# Build a spatial adjacency matrix\n",
    "matrix <- inla.read.graph(filename = \" \")\n",
    "image(inla.graph2matrix(matrix), xlab=\"\", ylab=\"\") #code found on p181 of green book"
   ]
  }
 ],
 "metadata": {
  "kernelspec": {
   "display_name": "R",
   "language": "R",
   "name": "ir"
  },
  "language_info": {
   "codemirror_mode": "r",
   "file_extension": ".r",
   "mimetype": "text/x-r-source",
   "name": "R",
   "pygments_lexer": "r",
   "version": "3.6.3"
  }
 },
 "nbformat": 4,
 "nbformat_minor": 4
}
