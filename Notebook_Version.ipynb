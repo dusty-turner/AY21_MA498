{
 "cells": [
  {
   "cell_type": "code",
   "execution_count": 2,
   "metadata": {},
   "outputs": [],
   "source": [
    "library(\"INLA\")\n",
    "library(\"dplyr\")\n",
    "library(\"tidyverse\")"
   ]
  },
  {
   "cell_type": "code",
   "execution_count": 3,
   "metadata": {},
   "outputs": [],
   "source": [
    "data = read.csv(\"JHU_rollup_as_of_2020-10-01.csv\", header = TRUE)\n",
    "county = read.csv(\"county_pop.csv\",header = TRUE)\n",
    "data = merge(data,county, by=\"fips\")\n",
    "\n",
    "lag.data = data %>% group_by(fips) %>%arrange(date)%>% mutate(daily = confirmed - lag(confirmed, 1))\n",
    "\n",
    "lag.data %>% mutate(daily2 = ifelse(is.na(daily),0, daily)) ->lag.noNA #daily2 NA values replaced with 0 \n",
    "\n",
    "lag.noNA %>% mutate(daily2 = ifelse(daily < 0, 0, daily)) ->lag.clean  #negative daily2 values replaced with 0\n",
    "\n",
    "#see how many lags are negative\n",
    "pos<-nrow(lag.data[lag.data$daily>=0,])\n",
    "neg<-nrow(lag.data[lag.data$daily<0,])\n",
    "percent.neg<- neg/(neg+pos) #Note: Only 2% of the daily observations are negative. We will replace these with zero"
   ]
  },
  {
   "cell_type": "code",
   "execution_count": 4,
   "metadata": {},
   "outputs": [
    {
     "data": {
      "text/html": [
       "<table>\n",
       "<caption>A grouped_df: 6 × 12</caption>\n",
       "<thead>\n",
       "\t<tr><th scope=col>fips</th><th scope=col>date</th><th scope=col>county_name</th><th scope=col>province_state</th><th scope=col>country_region</th><th scope=col>confirmed</th><th scope=col>deaths</th><th scope=col>recovered</th><th scope=col>active</th><th scope=col>population</th><th scope=col>daily</th><th scope=col>daily2</th></tr>\n",
       "\t<tr><th scope=col>&lt;fct&gt;</th><th scope=col>&lt;fct&gt;</th><th scope=col>&lt;fct&gt;</th><th scope=col>&lt;fct&gt;</th><th scope=col>&lt;fct&gt;</th><th scope=col>&lt;int&gt;</th><th scope=col>&lt;int&gt;</th><th scope=col>&lt;int&gt;</th><th scope=col>&lt;int&gt;</th><th scope=col>&lt;int&gt;</th><th scope=col>&lt;int&gt;</th><th scope=col>&lt;dbl&gt;</th></tr>\n",
       "</thead>\n",
       "<tbody>\n",
       "\t<tr><td>10001</td><td>2020-03-22</td><td>Kent                </td><td>Delaware            </td><td>US</td><td>  5</td><td>0</td><td>0</td><td>0</td><td>178550</td><td>NA</td><td>NA</td></tr>\n",
       "\t<tr><td>10003</td><td>2020-03-22</td><td>New Castle          </td><td>Delaware            </td><td>US</td><td> 39</td><td>0</td><td>0</td><td>0</td><td>559335</td><td>NA</td><td>NA</td></tr>\n",
       "\t<tr><td>10005</td><td>2020-03-22</td><td>Sussex              </td><td>Delaware            </td><td>US</td><td> 12</td><td>0</td><td>0</td><td>0</td><td>229286</td><td>NA</td><td>NA</td></tr>\n",
       "\t<tr><td>11001</td><td>2020-03-22</td><td>District of Columbia</td><td>District of Columbia</td><td>US</td><td>102</td><td>2</td><td>0</td><td>0</td><td>702455</td><td>NA</td><td>NA</td></tr>\n",
       "\t<tr><td>11001</td><td>2020-03-22</td><td>District of Columbia</td><td>District of Columbia</td><td>US</td><td>102</td><td>0</td><td>0</td><td>0</td><td>702455</td><td> 0</td><td> 0</td></tr>\n",
       "\t<tr><td>12001</td><td>2020-03-22</td><td>Alachua             </td><td>Florida             </td><td>US</td><td> 35</td><td>0</td><td>0</td><td>0</td><td>269956</td><td>NA</td><td>NA</td></tr>\n",
       "</tbody>\n",
       "</table>\n"
      ],
      "text/latex": [
       "A grouped\\_df: 6 × 12\n",
       "\\begin{tabular}{llllllllllll}\n",
       " fips & date & county\\_name & province\\_state & country\\_region & confirmed & deaths & recovered & active & population & daily & daily2\\\\\n",
       " <fct> & <fct> & <fct> & <fct> & <fct> & <int> & <int> & <int> & <int> & <int> & <int> & <dbl>\\\\\n",
       "\\hline\n",
       "\t 10001 & 2020-03-22 & Kent                 & Delaware             & US &   5 & 0 & 0 & 0 & 178550 & NA & NA\\\\\n",
       "\t 10003 & 2020-03-22 & New Castle           & Delaware             & US &  39 & 0 & 0 & 0 & 559335 & NA & NA\\\\\n",
       "\t 10005 & 2020-03-22 & Sussex               & Delaware             & US &  12 & 0 & 0 & 0 & 229286 & NA & NA\\\\\n",
       "\t 11001 & 2020-03-22 & District of Columbia & District of Columbia & US & 102 & 2 & 0 & 0 & 702455 & NA & NA\\\\\n",
       "\t 11001 & 2020-03-22 & District of Columbia & District of Columbia & US & 102 & 0 & 0 & 0 & 702455 &  0 &  0\\\\\n",
       "\t 12001 & 2020-03-22 & Alachua              & Florida              & US &  35 & 0 & 0 & 0 & 269956 & NA & NA\\\\\n",
       "\\end{tabular}\n"
      ],
      "text/markdown": [
       "\n",
       "A grouped_df: 6 × 12\n",
       "\n",
       "| fips &lt;fct&gt; | date &lt;fct&gt; | county_name &lt;fct&gt; | province_state &lt;fct&gt; | country_region &lt;fct&gt; | confirmed &lt;int&gt; | deaths &lt;int&gt; | recovered &lt;int&gt; | active &lt;int&gt; | population &lt;int&gt; | daily &lt;int&gt; | daily2 &lt;dbl&gt; |\n",
       "|---|---|---|---|---|---|---|---|---|---|---|---|\n",
       "| 10001 | 2020-03-22 | Kent                 | Delaware             | US |   5 | 0 | 0 | 0 | 178550 | NA | NA |\n",
       "| 10003 | 2020-03-22 | New Castle           | Delaware             | US |  39 | 0 | 0 | 0 | 559335 | NA | NA |\n",
       "| 10005 | 2020-03-22 | Sussex               | Delaware             | US |  12 | 0 | 0 | 0 | 229286 | NA | NA |\n",
       "| 11001 | 2020-03-22 | District of Columbia | District of Columbia | US | 102 | 2 | 0 | 0 | 702455 | NA | NA |\n",
       "| 11001 | 2020-03-22 | District of Columbia | District of Columbia | US | 102 | 0 | 0 | 0 | 702455 |  0 |  0 |\n",
       "| 12001 | 2020-03-22 | Alachua              | Florida              | US |  35 | 0 | 0 | 0 | 269956 | NA | NA |\n",
       "\n"
      ],
      "text/plain": [
       "  fips  date       county_name          province_state       country_region\n",
       "1 10001 2020-03-22 Kent                 Delaware             US            \n",
       "2 10003 2020-03-22 New Castle           Delaware             US            \n",
       "3 10005 2020-03-22 Sussex               Delaware             US            \n",
       "4 11001 2020-03-22 District of Columbia District of Columbia US            \n",
       "5 11001 2020-03-22 District of Columbia District of Columbia US            \n",
       "6 12001 2020-03-22 Alachua              Florida              US            \n",
       "  confirmed deaths recovered active population daily daily2\n",
       "1   5       0      0         0      178550     NA    NA    \n",
       "2  39       0      0         0      559335     NA    NA    \n",
       "3  12       0      0         0      229286     NA    NA    \n",
       "4 102       2      0         0      702455     NA    NA    \n",
       "5 102       0      0         0      702455      0     0    \n",
       "6  35       0      0         0      269956     NA    NA    "
      ]
     },
     "metadata": {},
     "output_type": "display_data"
    }
   ],
   "source": [
    "head(lag.clean)"
   ]
  },
  {
   "cell_type": "code",
   "execution_count": null,
   "metadata": {},
   "outputs": [],
   "source": []
  }
 ],
 "metadata": {
  "kernelspec": {
   "display_name": "R",
   "language": "R",
   "name": "ir"
  },
  "language_info": {
   "codemirror_mode": "r",
   "file_extension": ".r",
   "mimetype": "text/x-r-source",
   "name": "R",
   "pygments_lexer": "r",
   "version": "3.6.3"
  }
 },
 "nbformat": 4,
 "nbformat_minor": 4
}
